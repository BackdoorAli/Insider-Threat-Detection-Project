{
 "cells": [
  {
   "cell_type": "code",
   "execution_count": 1,
   "id": "cb158954-8270-4fae-9cdd-407da3c5687f",
   "metadata": {},
   "outputs": [],
   "source": [
    "import pandas as pd\n",
    "import glob"
   ]
  },
  {
   "cell_type": "code",
   "execution_count": 2,
   "id": "2e72570d-e839-4065-a230-4aa3eb5d69fd",
   "metadata": {},
   "outputs": [],
   "source": [
    "import matplotlib.pyplot as plt\n",
    "import seaborn as sns"
   ]
  },
  {
   "cell_type": "code",
   "execution_count": 3,
   "id": "0fbe3fe5-5a84-41ce-9a32-6dc8eafc31a2",
   "metadata": {},
   "outputs": [
    {
     "name": "stdout",
     "output_type": "stream",
     "text": [
      "Found 18 LDAP files.\n"
     ]
    },
    {
     "data": {
      "text/plain": [
       "['../data_raw/r1/LDAP/2010-01.csv',\n",
       " '../data_raw/r1/LDAP/2010-02.csv',\n",
       " '../data_raw/r1/LDAP/2010-03.csv',\n",
       " '../data_raw/r1/LDAP/2010-07.csv',\n",
       " '../data_raw/r1/LDAP/2010-12.csv',\n",
       " '../data_raw/r1/LDAP/2010-06.csv',\n",
       " '../data_raw/r1/LDAP/2010-10.csv',\n",
       " '../data_raw/r1/LDAP/2010-04.csv',\n",
       " '../data_raw/r1/LDAP/2010-05.csv',\n",
       " '../data_raw/r1/LDAP/2010-11.csv',\n",
       " '../data_raw/r1/LDAP/2010-08.csv',\n",
       " '../data_raw/r1/LDAP/2010-09.csv',\n",
       " '../data_raw/r1/LDAP/2009-12.csv',\n",
       " '../data_raw/r1/LDAP/2011-03.csv',\n",
       " '../data_raw/r1/LDAP/2011-02.csv',\n",
       " '../data_raw/r1/LDAP/2011-01.csv',\n",
       " '../data_raw/r1/LDAP/2011-05.csv',\n",
       " '../data_raw/r1/LDAP/2011-04.csv']"
      ]
     },
     "execution_count": 3,
     "metadata": {},
     "output_type": "execute_result"
    }
   ],
   "source": [
    "# Locate all LDAP monthly files\n",
    "ldap_files = glob.glob(\"../data_raw/r1/LDAP/*.csv\")\n",
    "print(f\"Found {len(ldap_files)} LDAP files.\")\n",
    "ldap_files"
   ]
  },
  {
   "cell_type": "code",
   "execution_count": 4,
   "id": "119cb340-b64d-4483-9319-550de8d04702",
   "metadata": {},
   "outputs": [
    {
     "name": "stdout",
     "output_type": "stream",
     "text": [
      "<class 'pandas.core.frame.DataFrame'>\n",
      "Index: 1000 entries, 0 to 12356\n",
      "Data columns (total 5 columns):\n",
      " #   Column         Non-Null Count  Dtype \n",
      "---  ------         --------------  ----- \n",
      " 0   employee_name  1000 non-null   object\n",
      " 1   user_id        1000 non-null   object\n",
      " 2   Domain         1000 non-null   object\n",
      " 3   Email          1000 non-null   object\n",
      " 4   Role           1000 non-null   object\n",
      "dtypes: object(5)\n",
      "memory usage: 46.9+ KB\n"
     ]
    },
    {
     "data": {
      "text/html": [
       "<div>\n",
       "<style scoped>\n",
       "    .dataframe tbody tr th:only-of-type {\n",
       "        vertical-align: middle;\n",
       "    }\n",
       "\n",
       "    .dataframe tbody tr th {\n",
       "        vertical-align: top;\n",
       "    }\n",
       "\n",
       "    .dataframe thead th {\n",
       "        text-align: right;\n",
       "    }\n",
       "</style>\n",
       "<table border=\"1\" class=\"dataframe\">\n",
       "  <thead>\n",
       "    <tr style=\"text-align: right;\">\n",
       "      <th></th>\n",
       "      <th>employee_name</th>\n",
       "      <th>user_id</th>\n",
       "      <th>Domain</th>\n",
       "      <th>Email</th>\n",
       "      <th>Role</th>\n",
       "    </tr>\n",
       "  </thead>\n",
       "  <tbody>\n",
       "    <tr>\n",
       "      <th>0</th>\n",
       "      <td>Burton M Stephenson</td>\n",
       "      <td>BMS0001</td>\n",
       "      <td>dtaa.com</td>\n",
       "      <td>Burton.M.Stephenson@dtaa.com</td>\n",
       "      <td>Security</td>\n",
       "    </tr>\n",
       "    <tr>\n",
       "      <th>1</th>\n",
       "      <td>Keelie M Goodwin</td>\n",
       "      <td>KMG0002</td>\n",
       "      <td>dtaa.com</td>\n",
       "      <td>Keelie.M.Goodwin@dtaa.com</td>\n",
       "      <td>Engineer</td>\n",
       "    </tr>\n",
       "    <tr>\n",
       "      <th>2</th>\n",
       "      <td>Dara O Craig</td>\n",
       "      <td>DOC0003</td>\n",
       "      <td>dtaa.com</td>\n",
       "      <td>Dara.O.Craig@dtaa.com</td>\n",
       "      <td>VP</td>\n",
       "    </tr>\n",
       "    <tr>\n",
       "      <th>3</th>\n",
       "      <td>Blossom T Hale</td>\n",
       "      <td>BTH0004</td>\n",
       "      <td>dtaa.com</td>\n",
       "      <td>Blossom.T.Hale@dtaa.com</td>\n",
       "      <td>Technician</td>\n",
       "    </tr>\n",
       "    <tr>\n",
       "      <th>4</th>\n",
       "      <td>Yeo C Bennett</td>\n",
       "      <td>YCB0005</td>\n",
       "      <td>dtaa.com</td>\n",
       "      <td>Yeo.C.Bennett@dtaa.com</td>\n",
       "      <td>Engineer</td>\n",
       "    </tr>\n",
       "  </tbody>\n",
       "</table>\n",
       "</div>"
      ],
      "text/plain": [
       "         employee_name  user_id    Domain                         Email  \\\n",
       "0  Burton M Stephenson  BMS0001  dtaa.com  Burton.M.Stephenson@dtaa.com   \n",
       "1     Keelie M Goodwin  KMG0002  dtaa.com     Keelie.M.Goodwin@dtaa.com   \n",
       "2         Dara O Craig  DOC0003  dtaa.com         Dara.O.Craig@dtaa.com   \n",
       "3       Blossom T Hale  BTH0004  dtaa.com       Blossom.T.Hale@dtaa.com   \n",
       "4        Yeo C Bennett  YCB0005  dtaa.com        Yeo.C.Bennett@dtaa.com   \n",
       "\n",
       "         Role  \n",
       "0    Security  \n",
       "1    Engineer  \n",
       "2          VP  \n",
       "3  Technician  \n",
       "4    Engineer  "
      ]
     },
     "execution_count": 4,
     "metadata": {},
     "output_type": "execute_result"
    }
   ],
   "source": [
    "# Load and combine them\n",
    "df_list = [pd.read_csv(f) for f in ldap_files]\n",
    "ldap_merged = pd.concat(df_list, ignore_index=True)\n",
    "\n",
    "# Drop exact duplicates just in case\n",
    "ldap_merged = ldap_merged.drop_duplicates()\n",
    "\n",
    "# Peek\n",
    "ldap_merged.info()\n",
    "ldap_merged.head()"
   ]
  },
  {
   "cell_type": "code",
   "execution_count": 5,
   "id": "a7071c17-62c7-47f2-a7e6-fed925a76f6a",
   "metadata": {},
   "outputs": [
    {
     "name": "stdout",
     "output_type": "stream",
     "text": [
      "LDAP cleaned file saved!\n"
     ]
    }
   ],
   "source": [
    "# Save cleaned LDAP\n",
    "ldap_merged.to_csv(\"../data_processed/ldap_cleaned.csv\", index=False)\n",
    "print(\"LDAP cleaned file saved!\")"
   ]
  },
  {
   "cell_type": "code",
   "execution_count": 6,
   "id": "696c7983-3923-4390-9f80-15c8d842383d",
   "metadata": {},
   "outputs": [
    {
     "name": "stdout",
     "output_type": "stream",
     "text": [
      "<class 'pandas.core.frame.DataFrame'>\n",
      "RangeIndex: 849579 entries, 0 to 849578\n",
      "Data columns (total 5 columns):\n",
      " #   Column    Non-Null Count   Dtype         \n",
      "---  ------    --------------   -----         \n",
      " 0   id        849579 non-null  object        \n",
      " 1   date      849579 non-null  datetime64[ns]\n",
      " 2   user      849579 non-null  object        \n",
      " 3   pc        849579 non-null  object        \n",
      " 4   activity  849579 non-null  object        \n",
      "dtypes: datetime64[ns](1), object(4)\n",
      "memory usage: 32.4+ MB\n"
     ]
    },
    {
     "data": {
      "text/html": [
       "<div>\n",
       "<style scoped>\n",
       "    .dataframe tbody tr th:only-of-type {\n",
       "        vertical-align: middle;\n",
       "    }\n",
       "\n",
       "    .dataframe tbody tr th {\n",
       "        vertical-align: top;\n",
       "    }\n",
       "\n",
       "    .dataframe thead th {\n",
       "        text-align: right;\n",
       "    }\n",
       "</style>\n",
       "<table border=\"1\" class=\"dataframe\">\n",
       "  <thead>\n",
       "    <tr style=\"text-align: right;\">\n",
       "      <th></th>\n",
       "      <th>id</th>\n",
       "      <th>date</th>\n",
       "      <th>user</th>\n",
       "      <th>pc</th>\n",
       "      <th>activity</th>\n",
       "    </tr>\n",
       "  </thead>\n",
       "  <tbody>\n",
       "    <tr>\n",
       "      <th>0</th>\n",
       "      <td>{Y6O4-A7KC67IN-0899AOZK}</td>\n",
       "      <td>2010-01-04 00:10:37</td>\n",
       "      <td>DTAA/KEE0997</td>\n",
       "      <td>PC-1914</td>\n",
       "      <td>Logon</td>\n",
       "    </tr>\n",
       "    <tr>\n",
       "      <th>1</th>\n",
       "      <td>{O5Y6-O7CJ02JC-6704RWBS}</td>\n",
       "      <td>2010-01-04 00:52:16</td>\n",
       "      <td>DTAA/KEE0997</td>\n",
       "      <td>PC-1914</td>\n",
       "      <td>Logoff</td>\n",
       "    </tr>\n",
       "    <tr>\n",
       "      <th>2</th>\n",
       "      <td>{D2D1-C6EB14QJ-2100RSZO}</td>\n",
       "      <td>2010-01-04 01:17:20</td>\n",
       "      <td>DTAA/KEE0997</td>\n",
       "      <td>PC-3363</td>\n",
       "      <td>Logon</td>\n",
       "    </tr>\n",
       "    <tr>\n",
       "      <th>3</th>\n",
       "      <td>{H9W1-X0MC70BT-6065RPAT}</td>\n",
       "      <td>2010-01-04 01:28:34</td>\n",
       "      <td>DTAA/KEE0997</td>\n",
       "      <td>PC-3363</td>\n",
       "      <td>Logoff</td>\n",
       "    </tr>\n",
       "    <tr>\n",
       "      <th>4</th>\n",
       "      <td>{H3H4-S5AZ00AZ-9560IYHC}</td>\n",
       "      <td>2010-01-04 01:57:30</td>\n",
       "      <td>DTAA/BJM0992</td>\n",
       "      <td>PC-3058</td>\n",
       "      <td>Logon</td>\n",
       "    </tr>\n",
       "  </tbody>\n",
       "</table>\n",
       "</div>"
      ],
      "text/plain": [
       "                         id                date          user       pc  \\\n",
       "0  {Y6O4-A7KC67IN-0899AOZK} 2010-01-04 00:10:37  DTAA/KEE0997  PC-1914   \n",
       "1  {O5Y6-O7CJ02JC-6704RWBS} 2010-01-04 00:52:16  DTAA/KEE0997  PC-1914   \n",
       "2  {D2D1-C6EB14QJ-2100RSZO} 2010-01-04 01:17:20  DTAA/KEE0997  PC-3363   \n",
       "3  {H9W1-X0MC70BT-6065RPAT} 2010-01-04 01:28:34  DTAA/KEE0997  PC-3363   \n",
       "4  {H3H4-S5AZ00AZ-9560IYHC} 2010-01-04 01:57:30  DTAA/BJM0992  PC-3058   \n",
       "\n",
       "  activity  \n",
       "0    Logon  \n",
       "1   Logoff  \n",
       "2    Logon  \n",
       "3   Logoff  \n",
       "4    Logon  "
      ]
     },
     "execution_count": 6,
     "metadata": {},
     "output_type": "execute_result"
    }
   ],
   "source": [
    "# Load logon.csv\n",
    "df_logon = pd.read_csv(\"../data_raw/r1/logon.csv\")\n",
    "\n",
    "# Parse timestamps\n",
    "df_logon['date'] = pd.to_datetime(df_logon['date'], errors='coerce')\n",
    "\n",
    "# Drop rows where date parsing failed\n",
    "df_logon = df_logon.dropna(subset=['date'])\n",
    "\n",
    "# Verify\n",
    "df_logon.info()\n",
    "df_logon.head()"
   ]
  },
  {
   "cell_type": "code",
   "execution_count": 7,
   "id": "1d82e176-1ba6-4a55-99ad-2b7fb762cd80",
   "metadata": {},
   "outputs": [
    {
     "name": "stdout",
     "output_type": "stream",
     "text": [
      "Logon cleaned file saved!\n"
     ]
    }
   ],
   "source": [
    "# Save cleaned logon\n",
    "df_logon.to_csv(\"../data_processed/logon_cleaned.csv\", index=False)\n",
    "print(\"Logon cleaned file saved!\")"
   ]
  },
  {
   "cell_type": "code",
   "execution_count": 8,
   "id": "ab8d41ff-192c-4baa-857f-843505fd880c",
   "metadata": {},
   "outputs": [
    {
     "name": "stdout",
     "output_type": "stream",
     "text": [
      "<class 'pandas.core.frame.DataFrame'>\n",
      "RangeIndex: 65668 entries, 0 to 65667\n",
      "Data columns (total 5 columns):\n",
      " #   Column    Non-Null Count  Dtype         \n",
      "---  ------    --------------  -----         \n",
      " 0   id        65668 non-null  object        \n",
      " 1   date      65668 non-null  datetime64[ns]\n",
      " 2   user      65668 non-null  object        \n",
      " 3   pc        65668 non-null  object        \n",
      " 4   activity  65668 non-null  object        \n",
      "dtypes: datetime64[ns](1), object(4)\n",
      "memory usage: 2.5+ MB\n",
      "Device cleaned file saved!\n"
     ]
    }
   ],
   "source": [
    "df_device = pd.read_csv(\"../data_raw/r1/device.csv\")\n",
    "df_device['date'] = pd.to_datetime(df_device['date'], errors='coerce')\n",
    "df_device = df_device.dropna(subset=['date'])\n",
    "df_device.info()\n",
    "df_device.to_csv(\"../data_processed/device_cleaned.csv\", index=False)\n",
    "print(\"Device cleaned file saved!\")"
   ]
  },
  {
   "cell_type": "code",
   "execution_count": 9,
   "id": "26da36df-89ce-4158-9c41-43909e889eb7",
   "metadata": {},
   "outputs": [
    {
     "ename": "KeyError",
     "evalue": "'date'",
     "output_type": "error",
     "traceback": [
      "\u001b[31m---------------------------------------------------------------------------\u001b[39m",
      "\u001b[31mKeyError\u001b[39m                                  Traceback (most recent call last)",
      "\u001b[36mFile \u001b[39m\u001b[32m~/Desktop/Insider Threat Detection Project/.venv/lib/python3.13/site-packages/pandas/core/indexes/base.py:3812\u001b[39m, in \u001b[36mIndex.get_loc\u001b[39m\u001b[34m(self, key)\u001b[39m\n\u001b[32m   3811\u001b[39m \u001b[38;5;28;01mtry\u001b[39;00m:\n\u001b[32m-> \u001b[39m\u001b[32m3812\u001b[39m     \u001b[38;5;28;01mreturn\u001b[39;00m \u001b[38;5;28;43mself\u001b[39;49m\u001b[43m.\u001b[49m\u001b[43m_engine\u001b[49m\u001b[43m.\u001b[49m\u001b[43mget_loc\u001b[49m\u001b[43m(\u001b[49m\u001b[43mcasted_key\u001b[49m\u001b[43m)\u001b[49m\n\u001b[32m   3813\u001b[39m \u001b[38;5;28;01mexcept\u001b[39;00m \u001b[38;5;167;01mKeyError\u001b[39;00m \u001b[38;5;28;01mas\u001b[39;00m err:\n",
      "\u001b[36mFile \u001b[39m\u001b[32mpandas/_libs/index.pyx:167\u001b[39m, in \u001b[36mpandas._libs.index.IndexEngine.get_loc\u001b[39m\u001b[34m()\u001b[39m\n",
      "\u001b[36mFile \u001b[39m\u001b[32mpandas/_libs/index.pyx:196\u001b[39m, in \u001b[36mpandas._libs.index.IndexEngine.get_loc\u001b[39m\u001b[34m()\u001b[39m\n",
      "\u001b[36mFile \u001b[39m\u001b[32mpandas/_libs/hashtable_class_helper.pxi:7088\u001b[39m, in \u001b[36mpandas._libs.hashtable.PyObjectHashTable.get_item\u001b[39m\u001b[34m()\u001b[39m\n",
      "\u001b[36mFile \u001b[39m\u001b[32mpandas/_libs/hashtable_class_helper.pxi:7096\u001b[39m, in \u001b[36mpandas._libs.hashtable.PyObjectHashTable.get_item\u001b[39m\u001b[34m()\u001b[39m\n",
      "\u001b[31mKeyError\u001b[39m: 'date'",
      "\nThe above exception was the direct cause of the following exception:\n",
      "\u001b[31mKeyError\u001b[39m                                  Traceback (most recent call last)",
      "\u001b[36mCell\u001b[39m\u001b[36m \u001b[39m\u001b[32mIn[9]\u001b[39m\u001b[32m, line 2\u001b[39m\n\u001b[32m      1\u001b[39m df_http = pd.read_csv(\u001b[33m\"\u001b[39m\u001b[33m../data_raw/r1/http.csv\u001b[39m\u001b[33m\"\u001b[39m)\n\u001b[32m----> \u001b[39m\u001b[32m2\u001b[39m df_http[\u001b[33m'\u001b[39m\u001b[33mdate\u001b[39m\u001b[33m'\u001b[39m] = pd.to_datetime(\u001b[43mdf_http\u001b[49m\u001b[43m[\u001b[49m\u001b[33;43m'\u001b[39;49m\u001b[33;43mdate\u001b[39;49m\u001b[33;43m'\u001b[39;49m\u001b[43m]\u001b[49m, errors=\u001b[33m'\u001b[39m\u001b[33mcoerce\u001b[39m\u001b[33m'\u001b[39m)\n\u001b[32m      3\u001b[39m df_http = df_http.dropna(subset=[\u001b[33m'\u001b[39m\u001b[33mdate\u001b[39m\u001b[33m'\u001b[39m])\n\u001b[32m      4\u001b[39m df_http.info()\n",
      "\u001b[36mFile \u001b[39m\u001b[32m~/Desktop/Insider Threat Detection Project/.venv/lib/python3.13/site-packages/pandas/core/frame.py:4107\u001b[39m, in \u001b[36mDataFrame.__getitem__\u001b[39m\u001b[34m(self, key)\u001b[39m\n\u001b[32m   4105\u001b[39m \u001b[38;5;28;01mif\u001b[39;00m \u001b[38;5;28mself\u001b[39m.columns.nlevels > \u001b[32m1\u001b[39m:\n\u001b[32m   4106\u001b[39m     \u001b[38;5;28;01mreturn\u001b[39;00m \u001b[38;5;28mself\u001b[39m._getitem_multilevel(key)\n\u001b[32m-> \u001b[39m\u001b[32m4107\u001b[39m indexer = \u001b[38;5;28;43mself\u001b[39;49m\u001b[43m.\u001b[49m\u001b[43mcolumns\u001b[49m\u001b[43m.\u001b[49m\u001b[43mget_loc\u001b[49m\u001b[43m(\u001b[49m\u001b[43mkey\u001b[49m\u001b[43m)\u001b[49m\n\u001b[32m   4108\u001b[39m \u001b[38;5;28;01mif\u001b[39;00m is_integer(indexer):\n\u001b[32m   4109\u001b[39m     indexer = [indexer]\n",
      "\u001b[36mFile \u001b[39m\u001b[32m~/Desktop/Insider Threat Detection Project/.venv/lib/python3.13/site-packages/pandas/core/indexes/base.py:3819\u001b[39m, in \u001b[36mIndex.get_loc\u001b[39m\u001b[34m(self, key)\u001b[39m\n\u001b[32m   3814\u001b[39m     \u001b[38;5;28;01mif\u001b[39;00m \u001b[38;5;28misinstance\u001b[39m(casted_key, \u001b[38;5;28mslice\u001b[39m) \u001b[38;5;129;01mor\u001b[39;00m (\n\u001b[32m   3815\u001b[39m         \u001b[38;5;28misinstance\u001b[39m(casted_key, abc.Iterable)\n\u001b[32m   3816\u001b[39m         \u001b[38;5;129;01mand\u001b[39;00m \u001b[38;5;28many\u001b[39m(\u001b[38;5;28misinstance\u001b[39m(x, \u001b[38;5;28mslice\u001b[39m) \u001b[38;5;28;01mfor\u001b[39;00m x \u001b[38;5;129;01min\u001b[39;00m casted_key)\n\u001b[32m   3817\u001b[39m     ):\n\u001b[32m   3818\u001b[39m         \u001b[38;5;28;01mraise\u001b[39;00m InvalidIndexError(key)\n\u001b[32m-> \u001b[39m\u001b[32m3819\u001b[39m     \u001b[38;5;28;01mraise\u001b[39;00m \u001b[38;5;167;01mKeyError\u001b[39;00m(key) \u001b[38;5;28;01mfrom\u001b[39;00m\u001b[38;5;250m \u001b[39m\u001b[34;01merr\u001b[39;00m\n\u001b[32m   3820\u001b[39m \u001b[38;5;28;01mexcept\u001b[39;00m \u001b[38;5;167;01mTypeError\u001b[39;00m:\n\u001b[32m   3821\u001b[39m     \u001b[38;5;66;03m# If we have a listlike key, _check_indexing_error will raise\u001b[39;00m\n\u001b[32m   3822\u001b[39m     \u001b[38;5;66;03m#  InvalidIndexError. Otherwise we fall through and re-raise\u001b[39;00m\n\u001b[32m   3823\u001b[39m     \u001b[38;5;66;03m#  the TypeError.\u001b[39;00m\n\u001b[32m   3824\u001b[39m     \u001b[38;5;28mself\u001b[39m._check_indexing_error(key)\n",
      "\u001b[31mKeyError\u001b[39m: 'date'"
     ]
    }
   ],
   "source": [
    "df_http = pd.read_csv(\"../data_raw/r1/http.csv\")\n",
    "df_http['date'] = pd.to_datetime(df_http['date'], errors='coerce')\n",
    "df_http = df_http.dropna(subset=['date'])\n",
    "df_http.info()\n",
    "df_http.to_csv(\"../data_processed/http_cleaned.csv\", index=False)\n",
    "print(\"HTTP cleaned file saved!\")"
   ]
  },
  {
   "cell_type": "code",
   "execution_count": 10,
   "id": "dd8901de-72c3-4d61-959d-5c1fb65b4a29",
   "metadata": {},
   "outputs": [
    {
     "name": "stdout",
     "output_type": "stream",
     "text": [
      "Index(['{M8H9-W9NL75TH-1322KOLO}', '01/04/2010 07:08:47', 'DTAA/AMA0606',\n",
      "       'PC-1514', 'http://cnet.com'],\n",
      "      dtype='object')\n"
     ]
    }
   ],
   "source": [
    "print(df_http.columns)"
   ]
  },
  {
   "cell_type": "code",
   "execution_count": 11,
   "id": "1ea45657-f217-4b43-b3b0-2fce84d4f798",
   "metadata": {},
   "outputs": [
    {
     "data": {
      "text/html": [
       "<div>\n",
       "<style scoped>\n",
       "    .dataframe tbody tr th:only-of-type {\n",
       "        vertical-align: middle;\n",
       "    }\n",
       "\n",
       "    .dataframe tbody tr th {\n",
       "        vertical-align: top;\n",
       "    }\n",
       "\n",
       "    .dataframe thead th {\n",
       "        text-align: right;\n",
       "    }\n",
       "</style>\n",
       "<table border=\"1\" class=\"dataframe\">\n",
       "  <thead>\n",
       "    <tr style=\"text-align: right;\">\n",
       "      <th></th>\n",
       "      <th>0</th>\n",
       "      <th>1</th>\n",
       "      <th>2</th>\n",
       "      <th>3</th>\n",
       "      <th>4</th>\n",
       "    </tr>\n",
       "  </thead>\n",
       "  <tbody>\n",
       "    <tr>\n",
       "      <th>0</th>\n",
       "      <td>{M8H9-W9NL75TH-1322KOLO}</td>\n",
       "      <td>01/04/2010 07:08:47</td>\n",
       "      <td>DTAA/AMA0606</td>\n",
       "      <td>PC-1514</td>\n",
       "      <td>http://cnet.com</td>\n",
       "    </tr>\n",
       "    <tr>\n",
       "      <th>1</th>\n",
       "      <td>{V0E1-R0FE91SC-2381GTDZ}</td>\n",
       "      <td>01/04/2010 07:35:19</td>\n",
       "      <td>DTAA/DBM0698</td>\n",
       "      <td>PC-1444</td>\n",
       "      <td>http://force.open.com</td>\n",
       "    </tr>\n",
       "    <tr>\n",
       "      <th>2</th>\n",
       "      <td>{V7C8-H6KA39YG-3352HMOW}</td>\n",
       "      <td>01/04/2010 07:40:40</td>\n",
       "      <td>DTAA/HBF0035</td>\n",
       "      <td>PC-0991</td>\n",
       "      <td>http://tendencystem.org</td>\n",
       "    </tr>\n",
       "    <tr>\n",
       "      <th>3</th>\n",
       "      <td>{O9P7-D9DL54YQ-9903OMYE}</td>\n",
       "      <td>01/04/2010 07:52:25</td>\n",
       "      <td>DTAA/SVC0175</td>\n",
       "      <td>PC-3384</td>\n",
       "      <td>http://bent.cup.org</td>\n",
       "    </tr>\n",
       "    <tr>\n",
       "      <th>4</th>\n",
       "      <td>{L3J0-E4RF05KN-7341OQVW}</td>\n",
       "      <td>01/04/2010 07:55:50</td>\n",
       "      <td>DTAA/CMU0028</td>\n",
       "      <td>PC-4253</td>\n",
       "      <td>http://taxpotato.east.org</td>\n",
       "    </tr>\n",
       "  </tbody>\n",
       "</table>\n",
       "</div>"
      ],
      "text/plain": [
       "                          0                    1             2        3  \\\n",
       "0  {M8H9-W9NL75TH-1322KOLO}  01/04/2010 07:08:47  DTAA/AMA0606  PC-1514   \n",
       "1  {V0E1-R0FE91SC-2381GTDZ}  01/04/2010 07:35:19  DTAA/DBM0698  PC-1444   \n",
       "2  {V7C8-H6KA39YG-3352HMOW}  01/04/2010 07:40:40  DTAA/HBF0035  PC-0991   \n",
       "3  {O9P7-D9DL54YQ-9903OMYE}  01/04/2010 07:52:25  DTAA/SVC0175  PC-3384   \n",
       "4  {L3J0-E4RF05KN-7341OQVW}  01/04/2010 07:55:50  DTAA/CMU0028  PC-4253   \n",
       "\n",
       "                           4  \n",
       "0            http://cnet.com  \n",
       "1      http://force.open.com  \n",
       "2    http://tendencystem.org  \n",
       "3        http://bent.cup.org  \n",
       "4  http://taxpotato.east.org  "
      ]
     },
     "execution_count": 11,
     "metadata": {},
     "output_type": "execute_result"
    }
   ],
   "source": [
    "df_http = pd.read_csv(\"../data_raw/r1/http.csv\", header=None)\n",
    "df_http.head()"
   ]
  },
  {
   "cell_type": "code",
   "execution_count": 12,
   "id": "e76b5473-8bf7-43b3-82cd-b3374ff547cb",
   "metadata": {},
   "outputs": [],
   "source": [
    "df_http.columns = ['id', 'date', 'user', 'pc', 'url']"
   ]
  },
  {
   "cell_type": "code",
   "execution_count": 13,
   "id": "7b067197-0dc5-4046-aa6c-13b691ba4da3",
   "metadata": {},
   "outputs": [
    {
     "name": "stdout",
     "output_type": "stream",
     "text": [
      "<class 'pandas.core.frame.DataFrame'>\n",
      "RangeIndex: 3451665 entries, 0 to 3451664\n",
      "Data columns (total 5 columns):\n",
      " #   Column  Dtype         \n",
      "---  ------  -----         \n",
      " 0   id      object        \n",
      " 1   date    datetime64[ns]\n",
      " 2   user    object        \n",
      " 3   pc      object        \n",
      " 4   url     object        \n",
      "dtypes: datetime64[ns](1), object(4)\n",
      "memory usage: 131.7+ MB\n",
      "HTTP cleaned file saved!\n"
     ]
    }
   ],
   "source": [
    "df_http['date'] = pd.to_datetime(df_http['date'], errors='coerce')\n",
    "df_http = df_http.dropna(subset=['date'])\n",
    "df_http.info()\n",
    "\n",
    "# Save cleaned version\n",
    "df_http.to_csv(\"../data_processed/http_cleaned.csv\", index=False)\n",
    "print(\"HTTP cleaned file saved!\")"
   ]
  },
  {
   "cell_type": "markdown",
   "id": "42955625-2afc-431e-bde8-ac5c8726b007",
   "metadata": {},
   "source": [
    "### Data Cleaning Summary\n",
    "\n",
    "- Merged 18 LDAP monthly files → `ldap_cleaned.csv`\n",
    "- Parsed timestamps in logon.csv → `logon_cleaned.csv`\n",
    "- Parsed timestamps in device.csv → `device_cleaned.csv`\n",
    "- Fixed missing header, parsed timestamps in http.csv → `http_cleaned.csv`\n",
    "- Dropped rows with invalid dates where needed\n",
    "- All cleaned outputs saved in `/data_processed/` for EDA & dashboard"
   ]
  },
  {
   "cell_type": "code",
   "execution_count": null,
   "id": "03eb91bc-8389-4a57-8703-66a9400972a8",
   "metadata": {},
   "outputs": [],
   "source": []
  }
 ],
 "metadata": {
  "kernelspec": {
   "display_name": "Python 3 (ipykernel)",
   "language": "python",
   "name": "python3"
  },
  "language_info": {
   "codemirror_mode": {
    "name": "ipython",
    "version": 3
   },
   "file_extension": ".py",
   "mimetype": "text/x-python",
   "name": "python",
   "nbconvert_exporter": "python",
   "pygments_lexer": "ipython3",
   "version": "3.13.3"
  }
 },
 "nbformat": 4,
 "nbformat_minor": 5
}
