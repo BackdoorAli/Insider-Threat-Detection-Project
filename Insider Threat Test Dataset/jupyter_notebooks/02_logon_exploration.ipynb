{
 "cells": [
  {
   "cell_type": "code",
   "execution_count": 1,
   "id": "a6d0d7d5-385d-4feb-8533-da9a20f0ee79",
   "metadata": {},
   "outputs": [],
   "source": [
    "import pandas as pd"
   ]
  },
  {
   "cell_type": "code",
   "execution_count": 2,
   "id": "ca6360b1-83fe-4014-b4c9-17a1cd57b0a6",
   "metadata": {},
   "outputs": [],
   "source": [
    "import matplotlib.pyplot as plt\n",
    "import seaborn as sns"
   ]
  },
  {
   "cell_type": "code",
   "execution_count": 3,
   "id": "e3d90efe-a60a-4419-9687-af481284d2fe",
   "metadata": {},
   "outputs": [
    {
     "data": {
      "text/html": [
       "<div>\n",
       "<style scoped>\n",
       "    .dataframe tbody tr th:only-of-type {\n",
       "        vertical-align: middle;\n",
       "    }\n",
       "\n",
       "    .dataframe tbody tr th {\n",
       "        vertical-align: top;\n",
       "    }\n",
       "\n",
       "    .dataframe thead th {\n",
       "        text-align: right;\n",
       "    }\n",
       "</style>\n",
       "<table border=\"1\" class=\"dataframe\">\n",
       "  <thead>\n",
       "    <tr style=\"text-align: right;\">\n",
       "      <th></th>\n",
       "      <th>id</th>\n",
       "      <th>date</th>\n",
       "      <th>user</th>\n",
       "      <th>pc</th>\n",
       "      <th>activity</th>\n",
       "    </tr>\n",
       "  </thead>\n",
       "  <tbody>\n",
       "    <tr>\n",
       "      <th>0</th>\n",
       "      <td>{Y6O4-A7KC67IN-0899AOZK}</td>\n",
       "      <td>01/04/2010 00:10:37</td>\n",
       "      <td>DTAA/KEE0997</td>\n",
       "      <td>PC-1914</td>\n",
       "      <td>Logon</td>\n",
       "    </tr>\n",
       "    <tr>\n",
       "      <th>1</th>\n",
       "      <td>{O5Y6-O7CJ02JC-6704RWBS}</td>\n",
       "      <td>01/04/2010 00:52:16</td>\n",
       "      <td>DTAA/KEE0997</td>\n",
       "      <td>PC-1914</td>\n",
       "      <td>Logoff</td>\n",
       "    </tr>\n",
       "    <tr>\n",
       "      <th>2</th>\n",
       "      <td>{D2D1-C6EB14QJ-2100RSZO}</td>\n",
       "      <td>01/04/2010 01:17:20</td>\n",
       "      <td>DTAA/KEE0997</td>\n",
       "      <td>PC-3363</td>\n",
       "      <td>Logon</td>\n",
       "    </tr>\n",
       "    <tr>\n",
       "      <th>3</th>\n",
       "      <td>{H9W1-X0MC70BT-6065RPAT}</td>\n",
       "      <td>01/04/2010 01:28:34</td>\n",
       "      <td>DTAA/KEE0997</td>\n",
       "      <td>PC-3363</td>\n",
       "      <td>Logoff</td>\n",
       "    </tr>\n",
       "    <tr>\n",
       "      <th>4</th>\n",
       "      <td>{H3H4-S5AZ00AZ-9560IYHC}</td>\n",
       "      <td>01/04/2010 01:57:30</td>\n",
       "      <td>DTAA/BJM0992</td>\n",
       "      <td>PC-3058</td>\n",
       "      <td>Logon</td>\n",
       "    </tr>\n",
       "  </tbody>\n",
       "</table>\n",
       "</div>"
      ],
      "text/plain": [
       "                         id                 date          user       pc  \\\n",
       "0  {Y6O4-A7KC67IN-0899AOZK}  01/04/2010 00:10:37  DTAA/KEE0997  PC-1914   \n",
       "1  {O5Y6-O7CJ02JC-6704RWBS}  01/04/2010 00:52:16  DTAA/KEE0997  PC-1914   \n",
       "2  {D2D1-C6EB14QJ-2100RSZO}  01/04/2010 01:17:20  DTAA/KEE0997  PC-3363   \n",
       "3  {H9W1-X0MC70BT-6065RPAT}  01/04/2010 01:28:34  DTAA/KEE0997  PC-3363   \n",
       "4  {H3H4-S5AZ00AZ-9560IYHC}  01/04/2010 01:57:30  DTAA/BJM0992  PC-3058   \n",
       "\n",
       "  activity  \n",
       "0    Logon  \n",
       "1   Logoff  \n",
       "2    Logon  \n",
       "3   Logoff  \n",
       "4    Logon  "
      ]
     },
     "execution_count": 3,
     "metadata": {},
     "output_type": "execute_result"
    }
   ],
   "source": [
    "# Load logon.csv (use nrows to test if it's huge)\n",
    "logon_file = \"../data_raw/r1/logon.csv\"\n",
    "df_logon = pd.read_csv(logon_file, nrows=50000)\n",
    "\n",
    "# Peek at the first rows\n",
    "df_logon.head()"
   ]
  },
  {
   "cell_type": "code",
   "execution_count": 4,
   "id": "a67893d1-0fd7-48d1-82c6-3ed45183eddf",
   "metadata": {},
   "outputs": [
    {
     "name": "stdout",
     "output_type": "stream",
     "text": [
      "<class 'pandas.core.frame.DataFrame'>\n",
      "RangeIndex: 50000 entries, 0 to 49999\n",
      "Data columns (total 5 columns):\n",
      " #   Column    Non-Null Count  Dtype \n",
      "---  ------    --------------  ----- \n",
      " 0   id        50000 non-null  object\n",
      " 1   date      50000 non-null  object\n",
      " 2   user      50000 non-null  object\n",
      " 3   pc        50000 non-null  object\n",
      " 4   activity  50000 non-null  object\n",
      "dtypes: object(5)\n",
      "memory usage: 1.9+ MB\n"
     ]
    }
   ],
   "source": [
    "df_logon.info()"
   ]
  },
  {
   "cell_type": "code",
   "execution_count": 5,
   "id": "4b7d9889-a663-41a0-94cb-9c455b860ca2",
   "metadata": {},
   "outputs": [
    {
     "data": {
      "text/html": [
       "<div>\n",
       "<style scoped>\n",
       "    .dataframe tbody tr th:only-of-type {\n",
       "        vertical-align: middle;\n",
       "    }\n",
       "\n",
       "    .dataframe tbody tr th {\n",
       "        vertical-align: top;\n",
       "    }\n",
       "\n",
       "    .dataframe thead th {\n",
       "        text-align: right;\n",
       "    }\n",
       "</style>\n",
       "<table border=\"1\" class=\"dataframe\">\n",
       "  <thead>\n",
       "    <tr style=\"text-align: right;\">\n",
       "      <th></th>\n",
       "      <th>id</th>\n",
       "      <th>date</th>\n",
       "      <th>user</th>\n",
       "      <th>pc</th>\n",
       "      <th>activity</th>\n",
       "    </tr>\n",
       "  </thead>\n",
       "  <tbody>\n",
       "    <tr>\n",
       "      <th>count</th>\n",
       "      <td>50000</td>\n",
       "      <td>50000</td>\n",
       "      <td>50000</td>\n",
       "      <td>50000</td>\n",
       "      <td>50000</td>\n",
       "    </tr>\n",
       "    <tr>\n",
       "      <th>unique</th>\n",
       "      <td>50000</td>\n",
       "      <td>47804</td>\n",
       "      <td>1000</td>\n",
       "      <td>1100</td>\n",
       "      <td>2</td>\n",
       "    </tr>\n",
       "    <tr>\n",
       "      <th>top</th>\n",
       "      <td>{Y6O4-A7KC67IN-0899AOZK}</td>\n",
       "      <td>01/25/2010 07:52:50</td>\n",
       "      <td>DTAA/CGM0994</td>\n",
       "      <td>PC-4031</td>\n",
       "      <td>Logon</td>\n",
       "    </tr>\n",
       "    <tr>\n",
       "      <th>freq</th>\n",
       "      <td>1</td>\n",
       "      <td>4</td>\n",
       "      <td>333</td>\n",
       "      <td>70</td>\n",
       "      <td>28154</td>\n",
       "    </tr>\n",
       "  </tbody>\n",
       "</table>\n",
       "</div>"
      ],
      "text/plain": [
       "                              id                 date          user       pc  \\\n",
       "count                      50000                50000         50000    50000   \n",
       "unique                     50000                47804          1000     1100   \n",
       "top     {Y6O4-A7KC67IN-0899AOZK}  01/25/2010 07:52:50  DTAA/CGM0994  PC-4031   \n",
       "freq                           1                    4           333       70   \n",
       "\n",
       "       activity  \n",
       "count     50000  \n",
       "unique        2  \n",
       "top       Logon  \n",
       "freq      28154  "
      ]
     },
     "execution_count": 5,
     "metadata": {},
     "output_type": "execute_result"
    }
   ],
   "source": [
    "df_logon.describe(include='all')"
   ]
  },
  {
   "cell_type": "markdown",
   "id": "2bbb4dd1-dccf-494f-bce4-37682e53c7a2",
   "metadata": {},
   "source": [
    "### Logon File Findings\n",
    "\n",
    "- File: logon.csv\n",
    "- Columns found: id, date, user, pc, activity\n",
    "- Total rows: 50,000 (sampled with nrows)\n",
    "- Nulls: None — all key fields are non-null\n",
    "- Merge key: user\n",
    "- Notes: timestamp column (`date`) format looks consistent; activities are Logon/Logoff only."
   ]
  },
  {
   "cell_type": "code",
   "execution_count": null,
   "id": "3f3badc6-cf39-4396-ba59-56c104663890",
   "metadata": {},
   "outputs": [],
   "source": []
  }
 ],
 "metadata": {
  "kernelspec": {
   "display_name": "Python 3 (ipykernel)",
   "language": "python",
   "name": "python3"
  },
  "language_info": {
   "codemirror_mode": {
    "name": "ipython",
    "version": 3
   },
   "file_extension": ".py",
   "mimetype": "text/x-python",
   "name": "python",
   "nbconvert_exporter": "python",
   "pygments_lexer": "ipython3",
   "version": "3.13.3"
  }
 },
 "nbformat": 4,
 "nbformat_minor": 5
}
