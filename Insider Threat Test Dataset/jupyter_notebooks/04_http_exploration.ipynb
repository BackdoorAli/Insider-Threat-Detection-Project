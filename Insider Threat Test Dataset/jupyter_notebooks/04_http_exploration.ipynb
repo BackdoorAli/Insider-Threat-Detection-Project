{
 "cells": [
  {
   "cell_type": "code",
   "execution_count": 1,
   "id": "448b0e3a-cf12-4f34-8405-a089b7d226c7",
   "metadata": {},
   "outputs": [],
   "source": [
    "import pandas as pd\n",
    "import matplotlib.pyplot as plt\n",
    "import seaborn as sns"
   ]
  },
  {
   "cell_type": "code",
   "execution_count": 2,
   "id": "c19063f4-28f4-4712-ad5b-b7ccace9f35e",
   "metadata": {},
   "outputs": [
    {
     "data": {
      "text/html": [
       "<div>\n",
       "<style scoped>\n",
       "    .dataframe tbody tr th:only-of-type {\n",
       "        vertical-align: middle;\n",
       "    }\n",
       "\n",
       "    .dataframe tbody tr th {\n",
       "        vertical-align: top;\n",
       "    }\n",
       "\n",
       "    .dataframe thead th {\n",
       "        text-align: right;\n",
       "    }\n",
       "</style>\n",
       "<table border=\"1\" class=\"dataframe\">\n",
       "  <thead>\n",
       "    <tr style=\"text-align: right;\">\n",
       "      <th></th>\n",
       "      <th>{M8H9-W9NL75TH-1322KOLO}</th>\n",
       "      <th>01/04/2010 07:08:47</th>\n",
       "      <th>DTAA/AMA0606</th>\n",
       "      <th>PC-1514</th>\n",
       "      <th>http://cnet.com</th>\n",
       "    </tr>\n",
       "  </thead>\n",
       "  <tbody>\n",
       "    <tr>\n",
       "      <th>0</th>\n",
       "      <td>{V0E1-R0FE91SC-2381GTDZ}</td>\n",
       "      <td>01/04/2010 07:35:19</td>\n",
       "      <td>DTAA/DBM0698</td>\n",
       "      <td>PC-1444</td>\n",
       "      <td>http://force.open.com</td>\n",
       "    </tr>\n",
       "    <tr>\n",
       "      <th>1</th>\n",
       "      <td>{V7C8-H6KA39YG-3352HMOW}</td>\n",
       "      <td>01/04/2010 07:40:40</td>\n",
       "      <td>DTAA/HBF0035</td>\n",
       "      <td>PC-0991</td>\n",
       "      <td>http://tendencystem.org</td>\n",
       "    </tr>\n",
       "    <tr>\n",
       "      <th>2</th>\n",
       "      <td>{O9P7-D9DL54YQ-9903OMYE}</td>\n",
       "      <td>01/04/2010 07:52:25</td>\n",
       "      <td>DTAA/SVC0175</td>\n",
       "      <td>PC-3384</td>\n",
       "      <td>http://bent.cup.org</td>\n",
       "    </tr>\n",
       "    <tr>\n",
       "      <th>3</th>\n",
       "      <td>{L3J0-E4RF05KN-7341OQVW}</td>\n",
       "      <td>01/04/2010 07:55:50</td>\n",
       "      <td>DTAA/CMU0028</td>\n",
       "      <td>PC-4253</td>\n",
       "      <td>http://taxpotato.east.org</td>\n",
       "    </tr>\n",
       "    <tr>\n",
       "      <th>4</th>\n",
       "      <td>{V8F5-V1YW04ID-3094EHZZ}</td>\n",
       "      <td>01/04/2010 07:59:54</td>\n",
       "      <td>DTAA/BML0618</td>\n",
       "      <td>PC-0659</td>\n",
       "      <td>http://go.com</td>\n",
       "    </tr>\n",
       "  </tbody>\n",
       "</table>\n",
       "</div>"
      ],
      "text/plain": [
       "   {M8H9-W9NL75TH-1322KOLO}  01/04/2010 07:08:47  DTAA/AMA0606  PC-1514  \\\n",
       "0  {V0E1-R0FE91SC-2381GTDZ}  01/04/2010 07:35:19  DTAA/DBM0698  PC-1444   \n",
       "1  {V7C8-H6KA39YG-3352HMOW}  01/04/2010 07:40:40  DTAA/HBF0035  PC-0991   \n",
       "2  {O9P7-D9DL54YQ-9903OMYE}  01/04/2010 07:52:25  DTAA/SVC0175  PC-3384   \n",
       "3  {L3J0-E4RF05KN-7341OQVW}  01/04/2010 07:55:50  DTAA/CMU0028  PC-4253   \n",
       "4  {V8F5-V1YW04ID-3094EHZZ}  01/04/2010 07:59:54  DTAA/BML0618  PC-0659   \n",
       "\n",
       "             http://cnet.com  \n",
       "0      http://force.open.com  \n",
       "1    http://tendencystem.org  \n",
       "2        http://bent.cup.org  \n",
       "3  http://taxpotato.east.org  \n",
       "4              http://go.com  "
      ]
     },
     "execution_count": 2,
     "metadata": {},
     "output_type": "execute_result"
    }
   ],
   "source": [
    "# Load http.csv (use nrows if huge)\n",
    "http_file = \"../data_raw/r1/http.csv\"\n",
    "df_http = pd.read_csv(http_file, nrows=50000)\n",
    "\n",
    "# Peek at the first rows\n",
    "df_http.head()"
   ]
  },
  {
   "cell_type": "code",
   "execution_count": 3,
   "id": "f9b450c6-800b-4e38-91ba-20b83e12d921",
   "metadata": {},
   "outputs": [
    {
     "name": "stdout",
     "output_type": "stream",
     "text": [
      "<class 'pandas.core.frame.DataFrame'>\n",
      "RangeIndex: 50000 entries, 0 to 49999\n",
      "Data columns (total 5 columns):\n",
      " #   Column                    Non-Null Count  Dtype \n",
      "---  ------                    --------------  ----- \n",
      " 0   {M8H9-W9NL75TH-1322KOLO}  50000 non-null  object\n",
      " 1   01/04/2010 07:08:47       50000 non-null  object\n",
      " 2   DTAA/AMA0606              50000 non-null  object\n",
      " 3   PC-1514                   50000 non-null  object\n",
      " 4   http://cnet.com           50000 non-null  object\n",
      "dtypes: object(5)\n",
      "memory usage: 1.9+ MB\n"
     ]
    }
   ],
   "source": [
    "df_http.info()"
   ]
  },
  {
   "cell_type": "code",
   "execution_count": 4,
   "id": "df45cb02-6681-414a-abde-7b66bec86027",
   "metadata": {},
   "outputs": [
    {
     "data": {
      "text/html": [
       "<div>\n",
       "<style scoped>\n",
       "    .dataframe tbody tr th:only-of-type {\n",
       "        vertical-align: middle;\n",
       "    }\n",
       "\n",
       "    .dataframe tbody tr th {\n",
       "        vertical-align: top;\n",
       "    }\n",
       "\n",
       "    .dataframe thead th {\n",
       "        text-align: right;\n",
       "    }\n",
       "</style>\n",
       "<table border=\"1\" class=\"dataframe\">\n",
       "  <thead>\n",
       "    <tr style=\"text-align: right;\">\n",
       "      <th></th>\n",
       "      <th>{M8H9-W9NL75TH-1322KOLO}</th>\n",
       "      <th>01/04/2010 07:08:47</th>\n",
       "      <th>DTAA/AMA0606</th>\n",
       "      <th>PC-1514</th>\n",
       "      <th>http://cnet.com</th>\n",
       "    </tr>\n",
       "  </thead>\n",
       "  <tbody>\n",
       "    <tr>\n",
       "      <th>count</th>\n",
       "      <td>50000</td>\n",
       "      <td>50000</td>\n",
       "      <td>50000</td>\n",
       "      <td>50000</td>\n",
       "      <td>50000</td>\n",
       "    </tr>\n",
       "    <tr>\n",
       "      <th>unique</th>\n",
       "      <td>50000</td>\n",
       "      <td>36816</td>\n",
       "      <td>1000</td>\n",
       "      <td>1046</td>\n",
       "      <td>7914</td>\n",
       "    </tr>\n",
       "    <tr>\n",
       "      <th>top</th>\n",
       "      <td>{V0E1-R0FE91SC-2381GTDZ}</td>\n",
       "      <td>01/07/2010 14:31:43</td>\n",
       "      <td>DTAA/ABS0726</td>\n",
       "      <td>PC-3698</td>\n",
       "      <td>http://google.com</td>\n",
       "    </tr>\n",
       "    <tr>\n",
       "      <th>freq</th>\n",
       "      <td>1</td>\n",
       "      <td>11</td>\n",
       "      <td>370</td>\n",
       "      <td>370</td>\n",
       "      <td>11630</td>\n",
       "    </tr>\n",
       "  </tbody>\n",
       "</table>\n",
       "</div>"
      ],
      "text/plain": [
       "        {M8H9-W9NL75TH-1322KOLO}  01/04/2010 07:08:47  DTAA/AMA0606  PC-1514  \\\n",
       "count                      50000                50000         50000    50000   \n",
       "unique                     50000                36816          1000     1046   \n",
       "top     {V0E1-R0FE91SC-2381GTDZ}  01/07/2010 14:31:43  DTAA/ABS0726  PC-3698   \n",
       "freq                           1                   11           370      370   \n",
       "\n",
       "          http://cnet.com  \n",
       "count               50000  \n",
       "unique               7914  \n",
       "top     http://google.com  \n",
       "freq                11630  "
      ]
     },
     "execution_count": 4,
     "metadata": {},
     "output_type": "execute_result"
    }
   ],
   "source": [
    "df_http.describe(include='all')"
   ]
  },
  {
   "cell_type": "markdown",
   "id": "f1096800-2a72-4067-be5c-7317669824f0",
   "metadata": {},
   "source": [
    "### HTTP File Findings\n",
    "\n",
    "- File: http.csv\n",
    "- Columns found: id, date, user, url, activity\n",
    "- Total rows: 50,000 (sampled)\n",
    "- Nulls: None in user or date columns\n",
    "- Merge key: user_id\n",
    "- Notes: URLs look valid; timestamp format consistent."
   ]
  },
  {
   "cell_type": "code",
   "execution_count": null,
   "id": "52090e81-2dc8-4ac6-a9a1-82d0d26ff545",
   "metadata": {},
   "outputs": [],
   "source": []
  }
 ],
 "metadata": {
  "kernelspec": {
   "display_name": "Python 3 (ipykernel)",
   "language": "python",
   "name": "python3"
  },
  "language_info": {
   "codemirror_mode": {
    "name": "ipython",
    "version": 3
   },
   "file_extension": ".py",
   "mimetype": "text/x-python",
   "name": "python",
   "nbconvert_exporter": "python",
   "pygments_lexer": "ipython3",
   "version": "3.13.3"
  }
 },
 "nbformat": 4,
 "nbformat_minor": 5
}
