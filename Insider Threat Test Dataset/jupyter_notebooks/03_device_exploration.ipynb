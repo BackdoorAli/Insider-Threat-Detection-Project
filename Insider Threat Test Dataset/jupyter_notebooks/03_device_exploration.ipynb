{
 "cells": [
  {
   "cell_type": "code",
   "execution_count": 1,
   "id": "970433f1-7eae-4cc0-b911-c0a32506d486",
   "metadata": {},
   "outputs": [],
   "source": [
    "import pandas as pd\n",
    "import matplotlib.pyplot as plt\n",
    "import seaborn as sns"
   ]
  },
  {
   "cell_type": "code",
   "execution_count": 2,
   "id": "95ee4fc2-63aa-4ae6-a00d-a7f428b34029",
   "metadata": {},
   "outputs": [
    {
     "data": {
      "text/html": [
       "<div>\n",
       "<style scoped>\n",
       "    .dataframe tbody tr th:only-of-type {\n",
       "        vertical-align: middle;\n",
       "    }\n",
       "\n",
       "    .dataframe tbody tr th {\n",
       "        vertical-align: top;\n",
       "    }\n",
       "\n",
       "    .dataframe thead th {\n",
       "        text-align: right;\n",
       "    }\n",
       "</style>\n",
       "<table border=\"1\" class=\"dataframe\">\n",
       "  <thead>\n",
       "    <tr style=\"text-align: right;\">\n",
       "      <th></th>\n",
       "      <th>id</th>\n",
       "      <th>date</th>\n",
       "      <th>user</th>\n",
       "      <th>pc</th>\n",
       "      <th>activity</th>\n",
       "    </tr>\n",
       "  </thead>\n",
       "  <tbody>\n",
       "    <tr>\n",
       "      <th>0</th>\n",
       "      <td>{S7A7-Y8QZ65MW-8738SAZP}</td>\n",
       "      <td>01/04/2010 07:12:31</td>\n",
       "      <td>DTAA/RES0962</td>\n",
       "      <td>PC-3736</td>\n",
       "      <td>Connect</td>\n",
       "    </tr>\n",
       "    <tr>\n",
       "      <th>1</th>\n",
       "      <td>{G7A8-G1OB94NR-3006NTXH}</td>\n",
       "      <td>01/04/2010 07:35:40</td>\n",
       "      <td>DTAA/BJC0569</td>\n",
       "      <td>PC-2588</td>\n",
       "      <td>Connect</td>\n",
       "    </tr>\n",
       "    <tr>\n",
       "      <th>2</th>\n",
       "      <td>{R3L8-N0LW95FR-8358LLXS}</td>\n",
       "      <td>01/04/2010 08:00:38</td>\n",
       "      <td>DTAA/EMZ0196</td>\n",
       "      <td>PC-1479</td>\n",
       "      <td>Connect</td>\n",
       "    </tr>\n",
       "    <tr>\n",
       "      <th>3</th>\n",
       "      <td>{I2F1-B5FB51FL-3128HBUL}</td>\n",
       "      <td>01/04/2010 08:02:14</td>\n",
       "      <td>DTAA/ZKH0388</td>\n",
       "      <td>PC-1021</td>\n",
       "      <td>Connect</td>\n",
       "    </tr>\n",
       "    <tr>\n",
       "      <th>4</th>\n",
       "      <td>{P7R6-C5TV18CT-1677DWWM}</td>\n",
       "      <td>01/04/2010 08:20:17</td>\n",
       "      <td>DTAA/RES0962</td>\n",
       "      <td>PC-3736</td>\n",
       "      <td>Disconnect</td>\n",
       "    </tr>\n",
       "  </tbody>\n",
       "</table>\n",
       "</div>"
      ],
      "text/plain": [
       "                         id                 date          user       pc  \\\n",
       "0  {S7A7-Y8QZ65MW-8738SAZP}  01/04/2010 07:12:31  DTAA/RES0962  PC-3736   \n",
       "1  {G7A8-G1OB94NR-3006NTXH}  01/04/2010 07:35:40  DTAA/BJC0569  PC-2588   \n",
       "2  {R3L8-N0LW95FR-8358LLXS}  01/04/2010 08:00:38  DTAA/EMZ0196  PC-1479   \n",
       "3  {I2F1-B5FB51FL-3128HBUL}  01/04/2010 08:02:14  DTAA/ZKH0388  PC-1021   \n",
       "4  {P7R6-C5TV18CT-1677DWWM}  01/04/2010 08:20:17  DTAA/RES0962  PC-3736   \n",
       "\n",
       "     activity  \n",
       "0     Connect  \n",
       "1     Connect  \n",
       "2     Connect  \n",
       "3     Connect  \n",
       "4  Disconnect  "
      ]
     },
     "execution_count": 2,
     "metadata": {},
     "output_type": "execute_result"
    }
   ],
   "source": [
    "# Load device.csv (use nrows if huge)\n",
    "device_file = \"../data_raw/r1/device.csv\"\n",
    "df_device = pd.read_csv(device_file, nrows=50000)\n",
    "\n",
    "# Peek at the first rows\n",
    "df_device.head()"
   ]
  },
  {
   "cell_type": "code",
   "execution_count": 3,
   "id": "2bf47c6d-873e-4cf4-a623-63beb0975f6b",
   "metadata": {},
   "outputs": [
    {
     "name": "stdout",
     "output_type": "stream",
     "text": [
      "<class 'pandas.core.frame.DataFrame'>\n",
      "RangeIndex: 50000 entries, 0 to 49999\n",
      "Data columns (total 5 columns):\n",
      " #   Column    Non-Null Count  Dtype \n",
      "---  ------    --------------  ----- \n",
      " 0   id        50000 non-null  object\n",
      " 1   date      50000 non-null  object\n",
      " 2   user      50000 non-null  object\n",
      " 3   pc        50000 non-null  object\n",
      " 4   activity  50000 non-null  object\n",
      "dtypes: object(5)\n",
      "memory usage: 1.9+ MB\n"
     ]
    }
   ],
   "source": [
    "df_device.info()"
   ]
  },
  {
   "cell_type": "code",
   "execution_count": 4,
   "id": "39efde36-b0c2-4b07-a216-84a5f7f537dc",
   "metadata": {},
   "outputs": [
    {
     "data": {
      "text/html": [
       "<div>\n",
       "<style scoped>\n",
       "    .dataframe tbody tr th:only-of-type {\n",
       "        vertical-align: middle;\n",
       "    }\n",
       "\n",
       "    .dataframe tbody tr th {\n",
       "        vertical-align: top;\n",
       "    }\n",
       "\n",
       "    .dataframe thead th {\n",
       "        text-align: right;\n",
       "    }\n",
       "</style>\n",
       "<table border=\"1\" class=\"dataframe\">\n",
       "  <thead>\n",
       "    <tr style=\"text-align: right;\">\n",
       "      <th></th>\n",
       "      <th>id</th>\n",
       "      <th>date</th>\n",
       "      <th>user</th>\n",
       "      <th>pc</th>\n",
       "      <th>activity</th>\n",
       "    </tr>\n",
       "  </thead>\n",
       "  <tbody>\n",
       "    <tr>\n",
       "      <th>count</th>\n",
       "      <td>50000</td>\n",
       "      <td>50000</td>\n",
       "      <td>50000</td>\n",
       "      <td>50000</td>\n",
       "      <td>50000</td>\n",
       "    </tr>\n",
       "    <tr>\n",
       "      <th>unique</th>\n",
       "      <td>50000</td>\n",
       "      <td>49894</td>\n",
       "      <td>228</td>\n",
       "      <td>228</td>\n",
       "      <td>2</td>\n",
       "    </tr>\n",
       "    <tr>\n",
       "      <th>top</th>\n",
       "      <td>{S7A7-Y8QZ65MW-8738SAZP}</td>\n",
       "      <td>01/21/2010 15:03:26</td>\n",
       "      <td>DTAA/AMA0191</td>\n",
       "      <td>PC-4736</td>\n",
       "      <td>Connect</td>\n",
       "    </tr>\n",
       "    <tr>\n",
       "      <th>freq</th>\n",
       "      <td>1</td>\n",
       "      <td>3</td>\n",
       "      <td>515</td>\n",
       "      <td>515</td>\n",
       "      <td>26297</td>\n",
       "    </tr>\n",
       "  </tbody>\n",
       "</table>\n",
       "</div>"
      ],
      "text/plain": [
       "                              id                 date          user       pc  \\\n",
       "count                      50000                50000         50000    50000   \n",
       "unique                     50000                49894           228      228   \n",
       "top     {S7A7-Y8QZ65MW-8738SAZP}  01/21/2010 15:03:26  DTAA/AMA0191  PC-4736   \n",
       "freq                           1                    3           515      515   \n",
       "\n",
       "       activity  \n",
       "count     50000  \n",
       "unique        2  \n",
       "top     Connect  \n",
       "freq      26297  "
      ]
     },
     "execution_count": 4,
     "metadata": {},
     "output_type": "execute_result"
    }
   ],
   "source": [
    "df_device.describe(include='all')"
   ]
  },
  {
   "cell_type": "markdown",
   "id": "ddb1c749-1019-46eb-b6e3-12eead41bfd8",
   "metadata": {},
   "source": [
    "### Device File Findings\n",
    "\n",
    "- File: device.csv\n",
    "- Columns found: id, date, user, pc, device_type, activity\n",
    "- Total rows: 50,000 (sampled with nrows)\n",
    "- Nulls: None in user_id or date\n",
    "- Merge key: user_id\n",
    "- Notes: timestamp looks consistent; device_type has expected values."
   ]
  },
  {
   "cell_type": "code",
   "execution_count": null,
   "id": "4fa5d724-fc1e-4f60-848f-1065d7e6d8c8",
   "metadata": {},
   "outputs": [],
   "source": []
  }
 ],
 "metadata": {
  "kernelspec": {
   "display_name": "Python 3 (ipykernel)",
   "language": "python",
   "name": "python3"
  },
  "language_info": {
   "codemirror_mode": {
    "name": "ipython",
    "version": 3
   },
   "file_extension": ".py",
   "mimetype": "text/x-python",
   "name": "python",
   "nbconvert_exporter": "python",
   "pygments_lexer": "ipython3",
   "version": "3.13.3"
  }
 },
 "nbformat": 4,
 "nbformat_minor": 5
}
